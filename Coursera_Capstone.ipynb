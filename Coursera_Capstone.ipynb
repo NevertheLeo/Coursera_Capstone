{
    "cells": [
        {
            "cell_type": "markdown",
            "metadata": {},
            "source": "# IBM Applied Data Science Capstone"
        },
        {
            "cell_type": "markdown",
            "metadata": {},
            "source": "This will be mainly used for the capstone project."
        },
        {
            "cell_type": "markdown",
            "metadata": {},
            "source": "## Introduction"
        },
        {
            "cell_type": "markdown",
            "metadata": {},
            "source": "A description of the problem and a discussion of the background"
        },
        {
            "cell_type": "markdown",
            "metadata": {},
            "source": "Suppose you are driving in a terrible weather condition. On the way, you come across a car accident on the other side of the highway, they must be in critical condition for all of this to be happening since police cars start appearing and there's a helicopter transporting the ones involved in the crash. You don't want those horrible things to happen to you so if there's a way that can warn you ahead then you would drive more carefully or even change your driving plan if you're able to. So the problem becomes: given the weather, the road conditions and other features about the possibility of you getting into an accident, to predict the severity of an accident."
        },
        {
            "cell_type": "markdown",
            "metadata": {},
            "source": "## Dataset"
        },
        {
            "cell_type": "markdown",
            "metadata": {},
            "source": "A description of the data and how it will be used to solve the problem"
        },
        {
            "cell_type": "markdown",
            "metadata": {},
            "source": "I will use collisions of Seattle(shared data) for this problem, it includes all types of collisions. Timeframe: 2004 to Present. In total, there are 37 attributes (columns) in this dataset, some have missing data. The first column **SEVERITYCODE** is the labeled data, which describes the fatality of an accident. The remaining columns have different types of attributes, such as **ADDRTYPE** stands for Collision address type of Alley, Blok, or intersection; **PERSONCOUNT** means the total number of people involved in the collision, etc, which can be used to train the model. Since it has unbalanced labels, should balance the data first to avoid a biased ML model."
        },
        {
            "cell_type": "code",
            "execution_count": 2,
            "metadata": {},
            "outputs": [],
            "source": "import pandas as pd\nimport numpy as np\nimport pylab as pl\nimport scipy.optimize as opt\n%matplotlib inline \nimport matplotlib.pyplot as plt"
        },
        {
            "cell_type": "code",
            "execution_count": 2,
            "metadata": {},
            "outputs": [
                {
                    "name": "stdout",
                    "output_type": "stream",
                    "text": "Hello Capstone Project Course!\n"
                }
            ],
            "source": "print ('Hello Capstone Project Course!')"
        },
        {
            "cell_type": "markdown",
            "metadata": {},
            "source": "## Data Snapshot"
        },
        {
            "cell_type": "code",
            "execution_count": 3,
            "metadata": {},
            "outputs": [
                {
                    "name": "stderr",
                    "output_type": "stream",
                    "text": "/opt/conda/envs/Python36/lib/python3.6/site-packages/IPython/core/interactiveshell.py:3020: DtypeWarning: Columns (33) have mixed types. Specify dtype option on import or set low_memory=False.\n  interactivity=interactivity, compiler=compiler, result=result)\n"
                },
                {
                    "data": {
                        "text/html": "<div>\n<style scoped>\n    .dataframe tbody tr th:only-of-type {\n        vertical-align: middle;\n    }\n\n    .dataframe tbody tr th {\n        vertical-align: top;\n    }\n\n    .dataframe thead th {\n        text-align: right;\n    }\n</style>\n<table border=\"1\" class=\"dataframe\">\n  <thead>\n    <tr style=\"text-align: right;\">\n      <th></th>\n      <th>SEVERITYCODE</th>\n      <th>X</th>\n      <th>Y</th>\n      <th>OBJECTID</th>\n      <th>INCKEY</th>\n      <th>COLDETKEY</th>\n      <th>REPORTNO</th>\n      <th>STATUS</th>\n      <th>ADDRTYPE</th>\n      <th>INTKEY</th>\n      <th>...</th>\n      <th>ROADCOND</th>\n      <th>LIGHTCOND</th>\n      <th>PEDROWNOTGRNT</th>\n      <th>SDOTCOLNUM</th>\n      <th>SPEEDING</th>\n      <th>ST_COLCODE</th>\n      <th>ST_COLDESC</th>\n      <th>SEGLANEKEY</th>\n      <th>CROSSWALKKEY</th>\n      <th>HITPARKEDCAR</th>\n    </tr>\n  </thead>\n  <tbody>\n    <tr>\n      <th>0</th>\n      <td>2</td>\n      <td>-122.323148</td>\n      <td>47.703140</td>\n      <td>1</td>\n      <td>1307</td>\n      <td>1307</td>\n      <td>3502005</td>\n      <td>Matched</td>\n      <td>Intersection</td>\n      <td>37475.0</td>\n      <td>...</td>\n      <td>Wet</td>\n      <td>Daylight</td>\n      <td>NaN</td>\n      <td>NaN</td>\n      <td>NaN</td>\n      <td>10</td>\n      <td>Entering at angle</td>\n      <td>0</td>\n      <td>0</td>\n      <td>N</td>\n    </tr>\n    <tr>\n      <th>1</th>\n      <td>1</td>\n      <td>-122.347294</td>\n      <td>47.647172</td>\n      <td>2</td>\n      <td>52200</td>\n      <td>52200</td>\n      <td>2607959</td>\n      <td>Matched</td>\n      <td>Block</td>\n      <td>NaN</td>\n      <td>...</td>\n      <td>Wet</td>\n      <td>Dark - Street Lights On</td>\n      <td>NaN</td>\n      <td>6354039.0</td>\n      <td>NaN</td>\n      <td>11</td>\n      <td>From same direction - both going straight - bo...</td>\n      <td>0</td>\n      <td>0</td>\n      <td>N</td>\n    </tr>\n    <tr>\n      <th>2</th>\n      <td>1</td>\n      <td>-122.334540</td>\n      <td>47.607871</td>\n      <td>3</td>\n      <td>26700</td>\n      <td>26700</td>\n      <td>1482393</td>\n      <td>Matched</td>\n      <td>Block</td>\n      <td>NaN</td>\n      <td>...</td>\n      <td>Dry</td>\n      <td>Daylight</td>\n      <td>NaN</td>\n      <td>4323031.0</td>\n      <td>NaN</td>\n      <td>32</td>\n      <td>One parked--one moving</td>\n      <td>0</td>\n      <td>0</td>\n      <td>N</td>\n    </tr>\n    <tr>\n      <th>3</th>\n      <td>1</td>\n      <td>-122.334803</td>\n      <td>47.604803</td>\n      <td>4</td>\n      <td>1144</td>\n      <td>1144</td>\n      <td>3503937</td>\n      <td>Matched</td>\n      <td>Block</td>\n      <td>NaN</td>\n      <td>...</td>\n      <td>Dry</td>\n      <td>Daylight</td>\n      <td>NaN</td>\n      <td>NaN</td>\n      <td>NaN</td>\n      <td>23</td>\n      <td>From same direction - all others</td>\n      <td>0</td>\n      <td>0</td>\n      <td>N</td>\n    </tr>\n    <tr>\n      <th>4</th>\n      <td>2</td>\n      <td>-122.306426</td>\n      <td>47.545739</td>\n      <td>5</td>\n      <td>17700</td>\n      <td>17700</td>\n      <td>1807429</td>\n      <td>Matched</td>\n      <td>Intersection</td>\n      <td>34387.0</td>\n      <td>...</td>\n      <td>Wet</td>\n      <td>Daylight</td>\n      <td>NaN</td>\n      <td>4028032.0</td>\n      <td>NaN</td>\n      <td>10</td>\n      <td>Entering at angle</td>\n      <td>0</td>\n      <td>0</td>\n      <td>N</td>\n    </tr>\n  </tbody>\n</table>\n<p>5 rows \u00d7 38 columns</p>\n</div>",
                        "text/plain": "   SEVERITYCODE           X          Y  OBJECTID  INCKEY  COLDETKEY REPORTNO  \\\n0             2 -122.323148  47.703140         1    1307       1307  3502005   \n1             1 -122.347294  47.647172         2   52200      52200  2607959   \n2             1 -122.334540  47.607871         3   26700      26700  1482393   \n3             1 -122.334803  47.604803         4    1144       1144  3503937   \n4             2 -122.306426  47.545739         5   17700      17700  1807429   \n\n    STATUS      ADDRTYPE   INTKEY  ... ROADCOND                LIGHTCOND  \\\n0  Matched  Intersection  37475.0  ...      Wet                 Daylight   \n1  Matched         Block      NaN  ...      Wet  Dark - Street Lights On   \n2  Matched         Block      NaN  ...      Dry                 Daylight   \n3  Matched         Block      NaN  ...      Dry                 Daylight   \n4  Matched  Intersection  34387.0  ...      Wet                 Daylight   \n\n  PEDROWNOTGRNT  SDOTCOLNUM SPEEDING ST_COLCODE  \\\n0           NaN         NaN      NaN         10   \n1           NaN   6354039.0      NaN         11   \n2           NaN   4323031.0      NaN         32   \n3           NaN         NaN      NaN         23   \n4           NaN   4028032.0      NaN         10   \n\n                                          ST_COLDESC  SEGLANEKEY  \\\n0                                  Entering at angle           0   \n1  From same direction - both going straight - bo...           0   \n2                             One parked--one moving           0   \n3                   From same direction - all others           0   \n4                                  Entering at angle           0   \n\n   CROSSWALKKEY  HITPARKEDCAR  \n0             0             N  \n1             0             N  \n2             0             N  \n3             0             N  \n4             0             N  \n\n[5 rows x 38 columns]"
                    },
                    "execution_count": 3,
                    "metadata": {},
                    "output_type": "execute_result"
                }
            ],
            "source": "df = pd.read_csv('https://s3.us.cloud-object-storage.appdomain.cloud/cf-courses-data/CognitiveClass/DP0701EN/version-2/Data-Collisions.csv')\ndf.head()"
        },
        {
            "cell_type": "code",
            "execution_count": 4,
            "metadata": {},
            "outputs": [
                {
                    "data": {
                        "text/plain": "(194673, 38)"
                    },
                    "execution_count": 4,
                    "metadata": {},
                    "output_type": "execute_result"
                }
            ],
            "source": "df.shape"
        },
        {
            "cell_type": "code",
            "execution_count": 5,
            "metadata": {},
            "outputs": [
                {
                    "data": {
                        "text/plain": "SEVERITYCODE           0\nX                   5334\nY                   5334\nOBJECTID               0\nINCKEY                 0\nCOLDETKEY              0\nREPORTNO               0\nSTATUS                 0\nADDRTYPE            1926\nINTKEY            129603\nLOCATION            2677\nEXCEPTRSNCODE     109862\nEXCEPTRSNDESC     189035\nSEVERITYCODE.1         0\nSEVERITYDESC           0\nCOLLISIONTYPE       4904\nPERSONCOUNT            0\nPEDCOUNT               0\nPEDCYLCOUNT            0\nVEHCOUNT               0\nINCDATE                0\nINCDTTM                0\nJUNCTIONTYPE        6329\nSDOT_COLCODE           0\nSDOT_COLDESC           0\nINATTENTIONIND    164868\nUNDERINFL           4884\nWEATHER             5081\nROADCOND            5012\nLIGHTCOND           5170\nPEDROWNOTGRNT     190006\nSDOTCOLNUM         79737\nSPEEDING          185340\nST_COLCODE            18\nST_COLDESC          4904\nSEGLANEKEY             0\nCROSSWALKKEY           0\nHITPARKEDCAR           0\ndtype: int64"
                    },
                    "execution_count": 5,
                    "metadata": {},
                    "output_type": "execute_result"
                }
            ],
            "source": "df.isna().sum()"
        },
        {
            "cell_type": "markdown",
            "metadata": {},
            "source": "## Feature Selection"
        },
        {
            "cell_type": "markdown",
            "metadata": {},
            "source": "Training features:\n* **WEATHER**: A description of the weather conditions during the time of the collision.  \n* **LIGHTCOND**: light condition - The light conditions during the collision. \n* **ROADCOND**: road condition - The condition of the road during the collision. \n* **JUNCTIONTYPE**: Category of junction at which collision took place. \n* **PERSONCOUNT**: The total number of people involved in the collision. \n* **VEHCOUNT**: vehicle count - The number of vehicles involved in the collision. <br><br>\n\nLabel data: \n* **SEVERITYCODE**: A code that corresponds to the severity of the collision:\n    * 3\u2014fatality\n    * 2b\u2014serious injury\n    * 2\u2014injury\n    * 1\u2014prop damage\n    * 0\u2014unknown "
        },
        {
            "cell_type": "code",
            "execution_count": 6,
            "metadata": {},
            "outputs": [
                {
                    "data": {
                        "text/html": "<div>\n<style scoped>\n    .dataframe tbody tr th:only-of-type {\n        vertical-align: middle;\n    }\n\n    .dataframe tbody tr th {\n        vertical-align: top;\n    }\n\n    .dataframe thead th {\n        text-align: right;\n    }\n</style>\n<table border=\"1\" class=\"dataframe\">\n  <thead>\n    <tr style=\"text-align: right;\">\n      <th></th>\n      <th>WEATHER</th>\n      <th>LIGHTCOND</th>\n      <th>ROADCOND</th>\n      <th>JUNCTIONTYPE</th>\n      <th>PERSONCOUNT</th>\n      <th>VEHCOUNT</th>\n      <th>SEVERITYCODE</th>\n    </tr>\n  </thead>\n  <tbody>\n    <tr>\n      <th>0</th>\n      <td>Overcast</td>\n      <td>Daylight</td>\n      <td>Wet</td>\n      <td>At Intersection (intersection related)</td>\n      <td>2</td>\n      <td>2</td>\n      <td>2</td>\n    </tr>\n    <tr>\n      <th>1</th>\n      <td>Raining</td>\n      <td>Dark - Street Lights On</td>\n      <td>Wet</td>\n      <td>Mid-Block (not related to intersection)</td>\n      <td>2</td>\n      <td>2</td>\n      <td>1</td>\n    </tr>\n    <tr>\n      <th>2</th>\n      <td>Overcast</td>\n      <td>Daylight</td>\n      <td>Dry</td>\n      <td>Mid-Block (not related to intersection)</td>\n      <td>4</td>\n      <td>3</td>\n      <td>1</td>\n    </tr>\n    <tr>\n      <th>3</th>\n      <td>Clear</td>\n      <td>Daylight</td>\n      <td>Dry</td>\n      <td>Mid-Block (not related to intersection)</td>\n      <td>3</td>\n      <td>3</td>\n      <td>1</td>\n    </tr>\n    <tr>\n      <th>4</th>\n      <td>Raining</td>\n      <td>Daylight</td>\n      <td>Wet</td>\n      <td>At Intersection (intersection related)</td>\n      <td>2</td>\n      <td>2</td>\n      <td>2</td>\n    </tr>\n  </tbody>\n</table>\n</div>",
                        "text/plain": "    WEATHER                LIGHTCOND ROADCOND  \\\n0  Overcast                 Daylight      Wet   \n1   Raining  Dark - Street Lights On      Wet   \n2  Overcast                 Daylight      Dry   \n3     Clear                 Daylight      Dry   \n4   Raining                 Daylight      Wet   \n\n                              JUNCTIONTYPE  PERSONCOUNT  VEHCOUNT  \\\n0   At Intersection (intersection related)            2         2   \n1  Mid-Block (not related to intersection)            2         2   \n2  Mid-Block (not related to intersection)            4         3   \n3  Mid-Block (not related to intersection)            3         3   \n4   At Intersection (intersection related)            2         2   \n\n   SEVERITYCODE  \n0             2  \n1             1  \n2             1  \n3             1  \n4             2  "
                    },
                    "execution_count": 6,
                    "metadata": {},
                    "output_type": "execute_result"
                }
            ],
            "source": "# features that can be used for ML model (including labels)\nfeatures = ['WEATHER','LIGHTCOND','ROADCOND','JUNCTIONTYPE','PERSONCOUNT','VEHCOUNT','SEVERITYCODE']\ndf_collision = df[features]\ndf_collision.head()"
        },
        {
            "cell_type": "markdown",
            "metadata": {},
            "source": "## Data Preprocessing"
        },
        {
            "cell_type": "code",
            "execution_count": 7,
            "metadata": {},
            "outputs": [
                {
                    "data": {
                        "text/plain": "(194673, 7)"
                    },
                    "execution_count": 7,
                    "metadata": {},
                    "output_type": "execute_result"
                }
            ],
            "source": "df_collision.shape"
        },
        {
            "cell_type": "code",
            "execution_count": 8,
            "metadata": {},
            "outputs": [
                {
                    "data": {
                        "text/plain": "WEATHER         5081\nLIGHTCOND       5170\nROADCOND        5012\nJUNCTIONTYPE    6329\nPERSONCOUNT        0\nVEHCOUNT           0\nSEVERITYCODE       0\ndtype: int64"
                    },
                    "execution_count": 8,
                    "metadata": {},
                    "output_type": "execute_result"
                }
            ],
            "source": "df_collision.isna().sum()"
        },
        {
            "cell_type": "code",
            "execution_count": 9,
            "metadata": {},
            "outputs": [
                {
                    "name": "stderr",
                    "output_type": "stream",
                    "text": "/opt/conda/envs/Python36/lib/python3.6/site-packages/ipykernel/__main__.py:2: SettingWithCopyWarning: \nA value is trying to be set on a copy of a slice from a DataFrame\n\nSee the caveats in the documentation: http://pandas.pydata.org/pandas-docs/stable/indexing.html#indexing-view-versus-copy\n  from ipykernel import kernelapp as app\n"
                }
            ],
            "source": "# Drop missing data\ndf_collision.dropna(inplace=True)"
        },
        {
            "cell_type": "code",
            "execution_count": 10,
            "metadata": {},
            "outputs": [
                {
                    "data": {
                        "text/plain": "(183196, 7)"
                    },
                    "execution_count": 10,
                    "metadata": {},
                    "output_type": "execute_result"
                }
            ],
            "source": "df_collision.shape"
        },
        {
            "cell_type": "code",
            "execution_count": 11,
            "metadata": {},
            "outputs": [
                {
                    "data": {
                        "text/plain": "WEATHER         0\nLIGHTCOND       0\nROADCOND        0\nJUNCTIONTYPE    0\nPERSONCOUNT     0\nVEHCOUNT        0\nSEVERITYCODE    0\ndtype: int64"
                    },
                    "execution_count": 11,
                    "metadata": {},
                    "output_type": "execute_result"
                }
            ],
            "source": "df_collision.isna().sum()"
        },
        {
            "cell_type": "code",
            "execution_count": 12,
            "metadata": {},
            "outputs": [
                {
                    "data": {
                        "text/plain": "1    126527\n2     56669\nName: SEVERITYCODE, dtype: int64"
                    },
                    "execution_count": 12,
                    "metadata": {},
                    "output_type": "execute_result"
                }
            ],
            "source": "df_collision['SEVERITYCODE'].value_counts()"
        },
        {
            "cell_type": "markdown",
            "metadata": {},
            "source": "### Weather"
        },
        {
            "cell_type": "markdown",
            "metadata": {},
            "source": "Convert categorical variables to numerical variables and combine similar weathers into one \n* Clear : 1\n* Raining, Snowing, Sleet/Hail/Freezing Rain : 2\n* Overcast, Partly Cloudy, Fog/Smog/Smoke  : 3\n* Blowing Sand/Dirt, Severe Crosswind : 4\n* Unknown, Other: 0"
        },
        {
            "cell_type": "code",
            "execution_count": 13,
            "metadata": {},
            "outputs": [
                {
                    "data": {
                        "text/plain": "Clear                       109163\nRaining                      32678\nOvercast                     27208\nUnknown                      11767\nSnowing                        882\nOther                          749\nFog/Smog/Smoke                 558\nSleet/Hail/Freezing Rain       112\nBlowing Sand/Dirt               49\nSevere Crosswind                25\nPartly Cloudy                    5\nName: WEATHER, dtype: int64"
                    },
                    "execution_count": 13,
                    "metadata": {},
                    "output_type": "execute_result"
                }
            ],
            "source": "df_collision['WEATHER'].value_counts()"
        },
        {
            "cell_type": "code",
            "execution_count": 14,
            "metadata": {},
            "outputs": [
                {
                    "name": "stderr",
                    "output_type": "stream",
                    "text": "/opt/conda/envs/Python36/lib/python3.6/site-packages/pandas/core/indexing.py:543: SettingWithCopyWarning: \nA value is trying to be set on a copy of a slice from a DataFrame.\nTry using .loc[row_indexer,col_indexer] = value instead\n\nSee the caveats in the documentation: http://pandas.pydata.org/pandas-docs/stable/indexing.html#indexing-view-versus-copy\n  self.obj[item] = s\n"
                },
                {
                    "data": {
                        "text/plain": "1    109163\n2     33672\n3     27771\n0     12516\n4        74\nName: WEATHER, dtype: int64"
                    },
                    "execution_count": 14,
                    "metadata": {},
                    "output_type": "execute_result"
                }
            ],
            "source": "df_collision.loc[df_collision['WEATHER'] == 'Clear', 'WEATHER'] = 1\ndf_collision.loc[(df_collision['WEATHER'] == 'Raining') | (df_collision['WEATHER'] == 'Snowing') |(df_collision['WEATHER'] == 'Sleet/Hail/Freezing Rain'),'WEATHER'] = 2\ndf_collision.loc[(df_collision['WEATHER'] == 'Overcast') | (df_collision['WEATHER'] == 'Partly Cloudy')| (df_collision['WEATHER'] == 'Fog/Smog/Smoke'),'WEATHER'] = 3\ndf_collision.loc[(df_collision['WEATHER'] == 'Blowing Sand/Dirt') | (df_collision['WEATHER'] == 'Severe Crosswind'),'WEATHER'] = 4\ndf_collision.loc[(df_collision['WEATHER'] == 'Unknown') | (df_collision['WEATHER'] == 'Other'),'WEATHER'] = 0\n\ndf_collision['WEATHER'].value_counts()"
        },
        {
            "cell_type": "markdown",
            "metadata": {},
            "source": "### Light Condition"
        },
        {
            "cell_type": "markdown",
            "metadata": {},
            "source": "Convert categorical variables to numerical variables and combine similar light condition into one \n* Daylight : 1\n* Dark - Street Lights On, Dark - No Street Lights, Dark - Street Lights Off, Dark - Unknown Lighting : 2\n* Dusk : 3\n* Dawn : 4\n* Unknown, Other : 0"
        },
        {
            "cell_type": "code",
            "execution_count": 15,
            "metadata": {},
            "outputs": [
                {
                    "data": {
                        "text/plain": "Daylight                    113972\nDark - Street Lights On      47593\nUnknown                      10553\nDusk                          5781\nDawn                          2454\nDark - No Street Lights       1463\nDark - Street Lights Off      1158\nOther                          211\nDark - Unknown Lighting         11\nName: LIGHTCOND, dtype: int64"
                    },
                    "execution_count": 15,
                    "metadata": {},
                    "output_type": "execute_result"
                }
            ],
            "source": "df_collision['LIGHTCOND'].value_counts()"
        },
        {
            "cell_type": "code",
            "execution_count": 16,
            "metadata": {},
            "outputs": [
                {
                    "data": {
                        "text/plain": "1    113972\n2     50225\n0     10764\n3      5781\n4      2454\nName: LIGHTCOND, dtype: int64"
                    },
                    "execution_count": 16,
                    "metadata": {},
                    "output_type": "execute_result"
                }
            ],
            "source": "df_collision.loc[df_collision['LIGHTCOND'] == 'Daylight', 'LIGHTCOND'] = 1\ndf_collision.loc[(df_collision['LIGHTCOND'] == 'Dark - Street Lights On') | (df_collision['LIGHTCOND'] == 'Dark - No Street Lights') |(df_collision['LIGHTCOND'] == 'Dark - Street Lights Off') |(df_collision['LIGHTCOND'] == 'Dark - Unknown Lighting'),'LIGHTCOND'] = 2\ndf_collision.loc[df_collision['LIGHTCOND'] == 'Dusk','LIGHTCOND'] = 3\ndf_collision.loc[df_collision['LIGHTCOND'] == 'Dawn','LIGHTCOND'] = 4\ndf_collision.loc[(df_collision['LIGHTCOND'] == 'Unknown') | (df_collision['LIGHTCOND'] == 'Other'),'LIGHTCOND'] = 0\n\ndf_collision['LIGHTCOND'].value_counts()"
        },
        {
            "cell_type": "markdown",
            "metadata": {},
            "source": "### Road Condition"
        },
        {
            "cell_type": "markdown",
            "metadata": {},
            "source": "Convert categorical variables to numerical variables and combine similar road condition into one \n* Dry : 1\n* Wet, Ice, Snow/Slush, Standing Water, Oil : 2\n* Sand/Mud/Dirt : 3\n* Unknown, Other : 0"
        },
        {
            "cell_type": "code",
            "execution_count": 17,
            "metadata": {
                "scrolled": true
            },
            "outputs": [
                {
                    "data": {
                        "text/plain": "Dry               122266\nWet                46758\nUnknown            11654\nIce                 1179\nSnow/Slush           980\nOther                123\nStanding Water       109\nSand/Mud/Dirt         67\nOil                   60\nName: ROADCOND, dtype: int64"
                    },
                    "execution_count": 17,
                    "metadata": {},
                    "output_type": "execute_result"
                }
            ],
            "source": "df_collision['ROADCOND'].value_counts()"
        },
        {
            "cell_type": "code",
            "execution_count": 18,
            "metadata": {},
            "outputs": [
                {
                    "data": {
                        "text/plain": "1    122266\n2     49086\n0     11777\n3        67\nName: ROADCOND, dtype: int64"
                    },
                    "execution_count": 18,
                    "metadata": {},
                    "output_type": "execute_result"
                }
            ],
            "source": "df_collision.loc[df_collision['ROADCOND'] == 'Dry', 'ROADCOND'] = 1\ndf_collision.loc[(df_collision['ROADCOND'] == 'Wet') | (df_collision['ROADCOND'] == 'Ice') |(df_collision['ROADCOND'] == 'Snow/Slush') |(df_collision['ROADCOND'] == 'Standing Water')| (df_collision['ROADCOND'] == 'Oil'),'ROADCOND'] = 2\ndf_collision.loc[df_collision['ROADCOND'] == 'Sand/Mud/Dirt','ROADCOND'] = 3\ndf_collision.loc[(df_collision['ROADCOND'] == 'Unknown') | (df_collision['ROADCOND'] == 'Other'),'ROADCOND'] = 0\n\ndf_collision['ROADCOND'].value_counts()"
        },
        {
            "cell_type": "markdown",
            "metadata": {},
            "source": "### Junction Condition"
        },
        {
            "cell_type": "markdown",
            "metadata": {},
            "source": "Convert categorical variables to numerical variables \n* Mid-Block (not related to intersection) : 1\n* Mid-Block (but intersection related) : 2\n* At Intersection (intersection related) : 3\n* At Intersection (but not related to intersection) : 4\n* Driveway Junction : 5\n* Ramp Junction :6\n* Unknown : 0"
        },
        {
            "cell_type": "code",
            "execution_count": 19,
            "metadata": {},
            "outputs": [
                {
                    "data": {
                        "text/plain": "Mid-Block (not related to intersection)              86856\nAt Intersection (intersection related)               61241\nMid-Block (but intersection related)                 22353\nDriveway Junction                                    10520\nAt Intersection (but not related to intersection)     2057\nRamp Junction                                          162\nUnknown                                                  7\nName: JUNCTIONTYPE, dtype: int64"
                    },
                    "execution_count": 19,
                    "metadata": {},
                    "output_type": "execute_result"
                }
            ],
            "source": "df_collision['JUNCTIONTYPE'].value_counts()"
        },
        {
            "cell_type": "code",
            "execution_count": 20,
            "metadata": {},
            "outputs": [
                {
                    "data": {
                        "text/plain": "1    86856\n3    61241\n2    22353\n5    10520\n4     2057\n6      162\n0        7\nName: JUNCTIONTYPE, dtype: int64"
                    },
                    "execution_count": 20,
                    "metadata": {},
                    "output_type": "execute_result"
                }
            ],
            "source": "df_collision.loc[df_collision['JUNCTIONTYPE'] == 'Mid-Block (not related to intersection)', 'JUNCTIONTYPE'] = 1\ndf_collision.loc[df_collision['JUNCTIONTYPE'] == 'Mid-Block (but intersection related)', 'JUNCTIONTYPE'] = 2\ndf_collision.loc[df_collision['JUNCTIONTYPE'] == 'At Intersection (intersection related)', 'JUNCTIONTYPE'] = 3\ndf_collision.loc[df_collision['JUNCTIONTYPE'] == 'At Intersection (but not related to intersection)', 'JUNCTIONTYPE'] = 4\ndf_collision.loc[df_collision['JUNCTIONTYPE'] == 'Driveway Junction', 'JUNCTIONTYPE'] = 5\ndf_collision.loc[df_collision['JUNCTIONTYPE'] == 'Ramp Junction', 'JUNCTIONTYPE'] = 6\ndf_collision.loc[df_collision['JUNCTIONTYPE'] == 'Unknown','JUNCTIONTYPE'] = 0\n\ndf_collision['JUNCTIONTYPE'].value_counts()"
        },
        {
            "cell_type": "code",
            "execution_count": 21,
            "metadata": {},
            "outputs": [
                {
                    "data": {
                        "text/html": "<div>\n<style scoped>\n    .dataframe tbody tr th:only-of-type {\n        vertical-align: middle;\n    }\n\n    .dataframe tbody tr th {\n        vertical-align: top;\n    }\n\n    .dataframe thead th {\n        text-align: right;\n    }\n</style>\n<table border=\"1\" class=\"dataframe\">\n  <thead>\n    <tr style=\"text-align: right;\">\n      <th></th>\n      <th>WEATHER</th>\n      <th>LIGHTCOND</th>\n      <th>ROADCOND</th>\n      <th>JUNCTIONTYPE</th>\n      <th>PERSONCOUNT</th>\n      <th>VEHCOUNT</th>\n      <th>SEVERITYCODE</th>\n    </tr>\n  </thead>\n  <tbody>\n    <tr>\n      <th>0</th>\n      <td>3</td>\n      <td>1</td>\n      <td>2</td>\n      <td>3</td>\n      <td>2</td>\n      <td>2</td>\n      <td>2</td>\n    </tr>\n    <tr>\n      <th>1</th>\n      <td>2</td>\n      <td>2</td>\n      <td>2</td>\n      <td>1</td>\n      <td>2</td>\n      <td>2</td>\n      <td>1</td>\n    </tr>\n    <tr>\n      <th>2</th>\n      <td>3</td>\n      <td>1</td>\n      <td>1</td>\n      <td>1</td>\n      <td>4</td>\n      <td>3</td>\n      <td>1</td>\n    </tr>\n    <tr>\n      <th>3</th>\n      <td>1</td>\n      <td>1</td>\n      <td>1</td>\n      <td>1</td>\n      <td>3</td>\n      <td>3</td>\n      <td>1</td>\n    </tr>\n    <tr>\n      <th>4</th>\n      <td>2</td>\n      <td>1</td>\n      <td>2</td>\n      <td>3</td>\n      <td>2</td>\n      <td>2</td>\n      <td>2</td>\n    </tr>\n    <tr>\n      <th>5</th>\n      <td>1</td>\n      <td>1</td>\n      <td>1</td>\n      <td>3</td>\n      <td>2</td>\n      <td>2</td>\n      <td>1</td>\n    </tr>\n    <tr>\n      <th>6</th>\n      <td>2</td>\n      <td>1</td>\n      <td>2</td>\n      <td>3</td>\n      <td>2</td>\n      <td>2</td>\n      <td>1</td>\n    </tr>\n    <tr>\n      <th>7</th>\n      <td>1</td>\n      <td>1</td>\n      <td>1</td>\n      <td>3</td>\n      <td>3</td>\n      <td>1</td>\n      <td>2</td>\n    </tr>\n    <tr>\n      <th>8</th>\n      <td>1</td>\n      <td>1</td>\n      <td>1</td>\n      <td>1</td>\n      <td>2</td>\n      <td>2</td>\n      <td>1</td>\n    </tr>\n    <tr>\n      <th>9</th>\n      <td>1</td>\n      <td>1</td>\n      <td>1</td>\n      <td>3</td>\n      <td>2</td>\n      <td>2</td>\n      <td>2</td>\n    </tr>\n  </tbody>\n</table>\n</div>",
                        "text/plain": "   WEATHER  LIGHTCOND  ROADCOND  JUNCTIONTYPE  PERSONCOUNT  VEHCOUNT  \\\n0        3          1         2             3            2         2   \n1        2          2         2             1            2         2   \n2        3          1         1             1            4         3   \n3        1          1         1             1            3         3   \n4        2          1         2             3            2         2   \n5        1          1         1             3            2         2   \n6        2          1         2             3            2         2   \n7        1          1         1             3            3         1   \n8        1          1         1             1            2         2   \n9        1          1         1             3            2         2   \n\n   SEVERITYCODE  \n0             2  \n1             1  \n2             1  \n3             1  \n4             2  \n5             1  \n6             1  \n7             2  \n8             1  \n9             2  "
                    },
                    "execution_count": 21,
                    "metadata": {},
                    "output_type": "execute_result"
                }
            ],
            "source": "df_collision.head(10)"
        },
        {
            "cell_type": "markdown",
            "metadata": {},
            "source": "### Balancing data "
        },
        {
            "cell_type": "markdown",
            "metadata": {},
            "source": "The data set is unbalanced - too many 'good condition' collisions, like Weather is clear. We should get rid of some of them to make the data set contain around half good and half bad condition. <br>\nThe simplest method is randomly drop half data with weather condition = clear (code:1) or road condition = dry (code:1)"
        },
        {
            "cell_type": "code",
            "execution_count": 22,
            "metadata": {},
            "outputs": [
                {
                    "name": "stderr",
                    "output_type": "stream",
                    "text": "/opt/conda/envs/Python36/lib/python3.6/site-packages/pandas/core/frame.py:3940: SettingWithCopyWarning: \nA value is trying to be set on a copy of a slice from a DataFrame\n\nSee the caveats in the documentation: http://pandas.pydata.org/pandas-docs/stable/indexing.html#indexing-view-versus-copy\n  errors=errors)\n"
                },
                {
                    "data": {
                        "text/html": "<div>\n<style scoped>\n    .dataframe tbody tr th:only-of-type {\n        vertical-align: middle;\n    }\n\n    .dataframe tbody tr th {\n        vertical-align: top;\n    }\n\n    .dataframe thead th {\n        text-align: right;\n    }\n</style>\n<table border=\"1\" class=\"dataframe\">\n  <thead>\n    <tr style=\"text-align: right;\">\n      <th></th>\n      <th>WEATHER</th>\n      <th>LIGHTCOND</th>\n      <th>ROADCOND</th>\n      <th>JUNCTIONTYPE</th>\n      <th>PERSONCOUNT</th>\n      <th>VEHCOUNT</th>\n      <th>SEVERITYCODE</th>\n    </tr>\n  </thead>\n  <tbody>\n    <tr>\n      <th>0</th>\n      <td>3</td>\n      <td>1</td>\n      <td>2</td>\n      <td>3</td>\n      <td>2</td>\n      <td>2</td>\n      <td>2</td>\n    </tr>\n    <tr>\n      <th>1</th>\n      <td>2</td>\n      <td>2</td>\n      <td>2</td>\n      <td>1</td>\n      <td>2</td>\n      <td>2</td>\n      <td>1</td>\n    </tr>\n    <tr>\n      <th>2</th>\n      <td>3</td>\n      <td>1</td>\n      <td>1</td>\n      <td>1</td>\n      <td>4</td>\n      <td>3</td>\n      <td>1</td>\n    </tr>\n    <tr>\n      <th>3</th>\n      <td>1</td>\n      <td>1</td>\n      <td>1</td>\n      <td>1</td>\n      <td>3</td>\n      <td>3</td>\n      <td>1</td>\n    </tr>\n    <tr>\n      <th>4</th>\n      <td>2</td>\n      <td>1</td>\n      <td>2</td>\n      <td>3</td>\n      <td>2</td>\n      <td>2</td>\n      <td>2</td>\n    </tr>\n  </tbody>\n</table>\n</div>",
                        "text/plain": "   WEATHER  LIGHTCOND  ROADCOND  JUNCTIONTYPE  PERSONCOUNT  VEHCOUNT  \\\n0        3          1         2             3            2         2   \n1        2          2         2             1            2         2   \n2        3          1         1             1            4         3   \n3        1          1         1             1            3         3   \n4        2          1         2             3            2         2   \n\n   SEVERITYCODE  \n0             2  \n1             1  \n2             1  \n3             1  \n4             2  "
                    },
                    "execution_count": 22,
                    "metadata": {},
                    "output_type": "execute_result"
                }
            ],
            "source": "df_collision.drop(df_collision.query('WEATHER == 1 | ROADCOND == 1').sample(frac=.5).index, inplace = True)\ndf_collision.head()"
        },
        {
            "cell_type": "code",
            "execution_count": 23,
            "metadata": {},
            "outputs": [
                {
                    "data": {
                        "text/plain": "(119656, 7)"
                    },
                    "execution_count": 23,
                    "metadata": {},
                    "output_type": "execute_result"
                }
            ],
            "source": "df_collision.shape"
        },
        {
            "cell_type": "code",
            "execution_count": 24,
            "metadata": {},
            "outputs": [
                {
                    "data": {
                        "text/plain": "WEATHER         int64\nLIGHTCOND       int64\nROADCOND        int64\nJUNCTIONTYPE    int64\nPERSONCOUNT     int64\nVEHCOUNT        int64\nSEVERITYCODE    int64\ndtype: object"
                    },
                    "execution_count": 24,
                    "metadata": {},
                    "output_type": "execute_result"
                }
            ],
            "source": "df_collision.dtypes"
        },
        {
            "cell_type": "markdown",
            "metadata": {},
            "source": "### Define X, and y "
        },
        {
            "cell_type": "code",
            "execution_count": 25,
            "metadata": {},
            "outputs": [
                {
                    "data": {
                        "text/plain": "array([[3, 1, 2, 3, 2, 2],\n       [2, 2, 2, 1, 2, 2],\n       [3, 1, 1, 1, 4, 3],\n       [1, 1, 1, 1, 3, 3],\n       [2, 1, 2, 3, 2, 2]])"
                    },
                    "execution_count": 25,
                    "metadata": {},
                    "output_type": "execute_result"
                }
            ],
            "source": "X = np.asarray(df_collision[['WEATHER','LIGHTCOND','ROADCOND','JUNCTIONTYPE','PERSONCOUNT','VEHCOUNT']])\nX[0:5]"
        },
        {
            "cell_type": "code",
            "execution_count": 26,
            "metadata": {},
            "outputs": [
                {
                    "data": {
                        "text/plain": "array([2, 1, 1, 1, 2])"
                    },
                    "execution_count": 26,
                    "metadata": {},
                    "output_type": "execute_result"
                }
            ],
            "source": "y = np.asarray(df_collision['SEVERITYCODE'])\ny [0:5]"
        },
        {
            "cell_type": "markdown",
            "metadata": {},
            "source": "### Normalize the dataset"
        },
        {
            "cell_type": "code",
            "execution_count": 27,
            "metadata": {},
            "outputs": [
                {
                    "name": "stderr",
                    "output_type": "stream",
                    "text": "/opt/conda/envs/Python36/lib/python3.6/site-packages/sklearn/utils/validation.py:595: DataConversionWarning: Data with input dtype int64 was converted to float64 by StandardScaler.\n  warnings.warn(msg, DataConversionWarning)\n/opt/conda/envs/Python36/lib/python3.6/site-packages/sklearn/utils/validation.py:595: DataConversionWarning: Data with input dtype int64 was converted to float64 by StandardScaler.\n  warnings.warn(msg, DataConversionWarning)\n"
                },
                {
                    "data": {
                        "text/plain": "array([[ 1.68825901, -0.43454235,  1.10892205,  0.82365956, -0.34246566,\n         0.05632737],\n       [ 0.55710619,  0.93513258,  1.10892205, -0.88838936, -0.34246566,\n         0.05632737],\n       [ 1.68825901, -0.43454235, -0.46768917, -0.88838936,  1.14905617,\n         1.83937161],\n       [-0.57404663, -0.43454235, -0.46768917, -0.88838936,  0.40329526,\n         1.83937161],\n       [ 0.55710619, -0.43454235,  1.10892205,  0.82365956, -0.34246566,\n         0.05632737]])"
                    },
                    "execution_count": 27,
                    "metadata": {},
                    "output_type": "execute_result"
                }
            ],
            "source": "from sklearn import preprocessing\nX = preprocessing.StandardScaler().fit(X).transform(X)\nX[0:5]"
        },
        {
            "cell_type": "markdown",
            "metadata": {},
            "source": "## Train/Test dataset"
        },
        {
            "cell_type": "markdown",
            "metadata": {},
            "source": "Split dataset into train and test set 70% ~ 30%"
        },
        {
            "cell_type": "code",
            "execution_count": 28,
            "metadata": {},
            "outputs": [
                {
                    "name": "stdout",
                    "output_type": "stream",
                    "text": "Train set: (83759, 6) (83759,)\nTest set: (35897, 6) (35897,)\n"
                }
            ],
            "source": "from sklearn.model_selection import train_test_split\nX_train, X_test, y_train, y_test = train_test_split( X, y, test_size=0.3, random_state=6)\nprint ('Train set:', X_train.shape,  y_train.shape)\nprint ('Test set:', X_test.shape,  y_test.shape)"
        },
        {
            "cell_type": "markdown",
            "metadata": {},
            "source": "## Modeling (Logistic Regression with Scikit-learn)"
        },
        {
            "cell_type": "markdown",
            "metadata": {},
            "source": "It is a classification problem, so i decieded to use Logistic Regression as the model. <br>\nThis function implements logistic regression and can use different numerical optimizers to find parameters, including \u2018newton-cg\u2019, \u2018lbfgs\u2019, \u2018liblinear\u2019, \u2018sag\u2019, \u2018saga\u2019 solvers. <br>\n\nThe version of Logistic Regression in Scikit-learn, support regularization. Regularization is a technique used to solve the overfitting problem in machine learning models. C parameter indicates inverse of regularization strength which must be a positive float. Smaller values specify stronger regularization. Now lets fit the model with train set:"
        },
        {
            "cell_type": "code",
            "execution_count": 29,
            "metadata": {},
            "outputs": [
                {
                    "data": {
                        "text/plain": "LogisticRegression(C=0.01, class_weight=None, dual=False, fit_intercept=True,\n          intercept_scaling=1, max_iter=100, multi_class='warn',\n          n_jobs=None, penalty='l2', random_state=None, solver='liblinear',\n          tol=0.0001, verbose=0, warm_start=False)"
                    },
                    "execution_count": 29,
                    "metadata": {},
                    "output_type": "execute_result"
                }
            ],
            "source": "from sklearn.linear_model import LogisticRegression\nfrom sklearn.metrics import confusion_matrix\nLR1 = LogisticRegression(C=0.01, solver='liblinear').fit(X_train,y_train)\nLR1"
        },
        {
            "cell_type": "code",
            "execution_count": 30,
            "metadata": {},
            "outputs": [
                {
                    "data": {
                        "text/plain": "LogisticRegression(C=0.01, class_weight=None, dual=False, fit_intercept=True,\n          intercept_scaling=1, max_iter=100, multi_class='warn',\n          n_jobs=None, penalty='l2', random_state=None, solver='sag',\n          tol=0.0001, verbose=0, warm_start=False)"
                    },
                    "execution_count": 30,
                    "metadata": {},
                    "output_type": "execute_result"
                }
            ],
            "source": "LR2 = LogisticRegression(C=0.01, solver='sag').fit(X_train,y_train)\nLR2"
        },
        {
            "cell_type": "code",
            "execution_count": 31,
            "metadata": {},
            "outputs": [
                {
                    "data": {
                        "text/plain": "LogisticRegression(C=0.01, class_weight=None, dual=False, fit_intercept=True,\n          intercept_scaling=1, max_iter=100, multi_class='warn',\n          n_jobs=None, penalty='l2', random_state=None, solver='lbfgs',\n          tol=0.0001, verbose=0, warm_start=False)"
                    },
                    "execution_count": 31,
                    "metadata": {},
                    "output_type": "execute_result"
                }
            ],
            "source": "LR3 = LogisticRegression(C=0.01, solver='lbfgs').fit(X_train,y_train)\nLR3"
        },
        {
            "cell_type": "markdown",
            "metadata": {},
            "source": "## Prediction & Results"
        },
        {
            "cell_type": "markdown",
            "metadata": {},
            "source": "predict using test set:"
        },
        {
            "cell_type": "code",
            "execution_count": 32,
            "metadata": {},
            "outputs": [
                {
                    "data": {
                        "text/plain": "array([1, 1, 1, ..., 1, 1, 1])"
                    },
                    "execution_count": 32,
                    "metadata": {},
                    "output_type": "execute_result"
                }
            ],
            "source": "yhat1 = LR1.predict(X_test)\nyhat1"
        },
        {
            "cell_type": "code",
            "execution_count": 33,
            "metadata": {},
            "outputs": [
                {
                    "data": {
                        "text/plain": "array([1, 1, 1, ..., 1, 1, 1])"
                    },
                    "execution_count": 33,
                    "metadata": {},
                    "output_type": "execute_result"
                }
            ],
            "source": "yhat2 = LR2.predict(X_test)\nyhat2"
        },
        {
            "cell_type": "code",
            "execution_count": 34,
            "metadata": {},
            "outputs": [
                {
                    "data": {
                        "text/plain": "array([1, 1, 1, ..., 1, 1, 1])"
                    },
                    "execution_count": 34,
                    "metadata": {},
                    "output_type": "execute_result"
                }
            ],
            "source": "yhat3 = LR3.predict(X_test)\nyhat3"
        },
        {
            "cell_type": "code",
            "execution_count": 35,
            "metadata": {},
            "outputs": [
                {
                    "data": {
                        "text/plain": "array([1, 2])"
                    },
                    "execution_count": 35,
                    "metadata": {},
                    "output_type": "execute_result"
                }
            ],
            "source": "LR1.classes_"
        },
        {
            "cell_type": "markdown",
            "metadata": {},
            "source": "**predict_proba** returns estimates for all classes, ordered by the label of classes. So, the first column is the probability of class 1, P(Y=1|X), and second column is probability of class 2, P(Y=2|X):"
        },
        {
            "cell_type": "code",
            "execution_count": 36,
            "metadata": {},
            "outputs": [
                {
                    "data": {
                        "text/plain": "array([[0.57988457, 0.42011543],\n       [0.72205162, 0.27794838],\n       [0.81121264, 0.18878736],\n       ...,\n       [0.72205162, 0.27794838],\n       [0.62394179, 0.37605821],\n       [0.63607072, 0.36392928]])"
                    },
                    "execution_count": 36,
                    "metadata": {},
                    "output_type": "execute_result"
                }
            ],
            "source": "yhat_prob1 = LR1.predict_proba(X_test)\nyhat_prob1"
        },
        {
            "cell_type": "code",
            "execution_count": 37,
            "metadata": {},
            "outputs": [
                {
                    "data": {
                        "text/plain": "array([[0.58100226, 0.41899774],\n       [0.72319889, 0.27680111],\n       [0.81223843, 0.18776157],\n       ...,\n       [0.72319889, 0.27680111],\n       [0.62499534, 0.37500466],\n       [0.6372225 , 0.3627775 ]])"
                    },
                    "execution_count": 37,
                    "metadata": {},
                    "output_type": "execute_result"
                }
            ],
            "source": "yhat_prob2 = LR2.predict_proba(X_test)\nyhat_prob2"
        },
        {
            "cell_type": "code",
            "execution_count": 38,
            "metadata": {},
            "outputs": [
                {
                    "data": {
                        "text/plain": "array([[0.5810072 , 0.4189928 ],\n       [0.72319963, 0.27680037],\n       [0.81224092, 0.18775908],\n       ...,\n       [0.72319963, 0.27680037],\n       [0.6250018 , 0.3749982 ],\n       [0.63722916, 0.36277084]])"
                    },
                    "execution_count": 38,
                    "metadata": {},
                    "output_type": "execute_result"
                }
            ],
            "source": "yhat_prob3 = LR3.predict_proba(X_test)\nyhat_prob3"
        },
        {
            "cell_type": "markdown",
            "metadata": {},
            "source": "## Evaluation"
        },
        {
            "cell_type": "markdown",
            "metadata": {},
            "source": "### Jaccard Index"
        },
        {
            "cell_type": "markdown",
            "metadata": {},
            "source": "We can define jaccard as the size of the intersection divided by the size of the union of two label sets. If the entire set of predicted labels for a sample strictly match with the true set of labels, then the subset accuracy is 1.0; otherwise it is 0.0."
        },
        {
            "cell_type": "code",
            "execution_count": 39,
            "metadata": {},
            "outputs": [
                {
                    "data": {
                        "text/plain": "0.7074964481711563"
                    },
                    "execution_count": 39,
                    "metadata": {},
                    "output_type": "execute_result"
                }
            ],
            "source": "from sklearn.metrics import jaccard_similarity_score\njaccard_similarity_score(y_test, yhat1)"
        },
        {
            "cell_type": "code",
            "execution_count": 40,
            "metadata": {},
            "outputs": [
                {
                    "data": {
                        "text/plain": "0.7074407332089032"
                    },
                    "execution_count": 40,
                    "metadata": {},
                    "output_type": "execute_result"
                }
            ],
            "source": "jaccard_similarity_score(y_test, yhat2)"
        },
        {
            "cell_type": "code",
            "execution_count": 41,
            "metadata": {},
            "outputs": [
                {
                    "data": {
                        "text/plain": "0.7074407332089032"
                    },
                    "execution_count": 41,
                    "metadata": {},
                    "output_type": "execute_result"
                }
            ],
            "source": "jaccard_similarity_score(y_test, yhat3)"
        },
        {
            "cell_type": "markdown",
            "metadata": {},
            "source": "### Confusion Matrix"
        },
        {
            "cell_type": "code",
            "execution_count": 42,
            "metadata": {},
            "outputs": [
                {
                    "name": "stdout",
                    "output_type": "stream",
                    "text": "[[23903  1212]\n [ 9288  1494]]\n"
                }
            ],
            "source": "from sklearn.metrics import classification_report, confusion_matrix\nimport itertools\ndef plot_confusion_matrix(cm, classes,\n                          normalize=False,\n                          title='Confusion matrix',\n                          cmap=plt.cm.Blues):\n    \"\"\"\n    This function prints and plots the confusion matrix.\n    Normalization can be applied by setting `normalize=True`.\n    \"\"\"\n    if normalize:\n        cm = cm.astype('float') / cm.sum(axis=1)[:, np.newaxis]\n        print(\"Normalized confusion matrix\")\n    else:\n        print('Confusion matrix, without normalization')\n\n    print(cm)\n\n    plt.imshow(cm, interpolation='nearest', cmap=cmap)\n    plt.title(title)\n    plt.colorbar()\n    tick_marks = np.arange(len(classes))\n    plt.xticks(tick_marks, classes, rotation=45)\n    plt.yticks(tick_marks, classes)\n\n    fmt = '.2f' if normalize else 'd'\n    thresh = cm.max() / 2.\n    for i, j in itertools.product(range(cm.shape[0]), range(cm.shape[1])):\n        plt.text(j, i, format(cm[i, j], fmt),\n                 horizontalalignment=\"center\",\n                 color=\"white\" if cm[i, j] > thresh else \"black\")\n\n    plt.tight_layout()\n    plt.ylabel('True label')\n    plt.xlabel('Predicted label')\nprint(confusion_matrix(y_test, yhat1, labels=[1,2]))"
        },
        {
            "cell_type": "code",
            "execution_count": 43,
            "metadata": {},
            "outputs": [
                {
                    "name": "stdout",
                    "output_type": "stream",
                    "text": "Confusion matrix, without normalization\n[[23903  1212]\n [ 9288  1494]]\n"
                },
                {
                    "data": {
                        "image/png": "[encoded data removed]",
                        "text/plain": "<Figure size 432x288 with 2 Axes>"
                    },
                    "metadata": {
                        "needs_background": "light"
                    },
                    "output_type": "display_data"
                }
            ],
            "source": "# Compute confusion matrix\ncnf_matrix = confusion_matrix(y_test, yhat1, labels=[1,2])\nnp.set_printoptions(precision=2)\n\n\n# Plot non-normalized confusion matrix\nplt.figure()\nplot_confusion_matrix(cnf_matrix, classes=['injury','prop damage'],normalize= False,  title='Confusion matrix')"
        },
        {
            "cell_type": "code",
            "execution_count": 44,
            "metadata": {},
            "outputs": [
                {
                    "name": "stdout",
                    "output_type": "stream",
                    "text": "              precision    recall  f1-score   support\n\n           1       0.72      0.95      0.82     25115\n           2       0.55      0.14      0.22     10782\n\n   micro avg       0.71      0.71      0.71     35897\n   macro avg       0.64      0.55      0.52     35897\nweighted avg       0.67      0.71      0.64     35897\n\n"
                }
            ],
            "source": "print (classification_report(y_test, yhat1))"
        },
        {
            "cell_type": "code",
            "execution_count": 45,
            "metadata": {},
            "outputs": [
                {
                    "name": "stdout",
                    "output_type": "stream",
                    "text": "              precision    recall  f1-score   support\n\n           1       0.72      0.95      0.82     25115\n           2       0.55      0.14      0.22     10782\n\n   micro avg       0.71      0.71      0.71     35897\n   macro avg       0.64      0.55      0.52     35897\nweighted avg       0.67      0.71      0.64     35897\n\n"
                }
            ],
            "source": "print (classification_report(y_test, yhat2))"
        },
        {
            "cell_type": "code",
            "execution_count": 46,
            "metadata": {},
            "outputs": [
                {
                    "name": "stdout",
                    "output_type": "stream",
                    "text": "              precision    recall  f1-score   support\n\n           1       0.72      0.95      0.82     25115\n           2       0.55      0.14      0.22     10782\n\n   micro avg       0.71      0.71      0.71     35897\n   macro avg       0.64      0.55      0.52     35897\nweighted avg       0.67      0.71      0.64     35897\n\n"
                }
            ],
            "source": "print (classification_report(y_test, yhat3))"
        },
        {
            "cell_type": "markdown",
            "metadata": {},
            "source": "Based on the count of each section, we can calculate precision and recall of each label:\n\n-   **Precision** is a measure of the accuracy provided that a class label has been predicted. It is defined by: precision = TP\u00a0/\u00a0(TP\u00a0+\u00a0FP)\n\n-   **Recall** is true positive rate. It is defined as: Recall = \u00a0TP\u00a0/\u00a0(TP\u00a0+\u00a0FN)\n\nSo, we can calculate precision and recall of each class.\n\n**F1 score:**\nNow we are in the position to calculate the F1 scores for each label based on the precision and recall of that label. \n\nThe F1 score is the harmonic average of the\u00a0precision and recall, where an F1\u00a0score reaches its best value at 1 (perfect precision and recall) and worst at 0. It is a good way to show that a classifer has a good value for both recall and precision.\n\nAnd finally, we can tell the average accuracy for this classifier is the average of the F1-score for both labels, which is 0.64 in this case.\n"
        },
        {
            "cell_type": "markdown",
            "metadata": {},
            "source": "### Log Loss"
        },
        {
            "cell_type": "markdown",
            "metadata": {},
            "source": "Now, will try **log loss** for evaluation. In logistic regression, the output can be the probability of injury (or equals to 1). This probability is a value between 0 and 1.\nLog loss(\u00a0Logarithmic\u00a0loss) measures the performance of a\u00a0classifier\u00a0where the predicted output is a probability value between 0 and 1. "
        },
        {
            "cell_type": "code",
            "execution_count": 47,
            "metadata": {},
            "outputs": [
                {
                    "data": {
                        "text/plain": "0.5776349992894849"
                    },
                    "execution_count": 47,
                    "metadata": {},
                    "output_type": "execute_result"
                }
            ],
            "source": "from sklearn.metrics import log_loss\nlog_loss(y_test, yhat_prob1)"
        },
        {
            "cell_type": "code",
            "execution_count": 48,
            "metadata": {},
            "outputs": [
                {
                    "data": {
                        "text/plain": "0.5776252908717573"
                    },
                    "execution_count": 48,
                    "metadata": {},
                    "output_type": "execute_result"
                }
            ],
            "source": "log_loss(y_test, yhat_prob2)"
        },
        {
            "cell_type": "code",
            "execution_count": 49,
            "metadata": {},
            "outputs": [
                {
                    "data": {
                        "text/plain": "0.5776252595502196"
                    },
                    "execution_count": 49,
                    "metadata": {},
                    "output_type": "execute_result"
                }
            ],
            "source": "log_loss(y_test, yhat_prob3)"
        },
        {
            "cell_type": "markdown",
            "metadata": {},
            "source": "## Discussion"
        },
        {
            "cell_type": "markdown",
            "metadata": {},
            "source": "As you can see from the above evaluation of the model, i used three different numerical optimizers to find parameters: \u2018liblinear\u2019, \u2018sag\u2019 and 'lbfgs'. The results show that all three have a same f1-score while a slightly different jaccard similarity and log loss. That means for each y_test data, it is considered as the same category by these three solvers, though with a different probabilities.  <br>\nWhile with a F1-score of 0.64 means this model is not a 'perfect' one, there should be some ways to imporve the accuracy. For example, if i use 80% as training data and 20% as testing, i assume it would have a higher score; and for feature selection and data preprocessing, if i don't combine some similar condition to one group, perhaps the results would be different. But maybe worse? <br>\nBut one thing is for sure, this data set is not a pretty good one for trainning model since for the labeled data (SEVERITYCODE), it only has 2 categories, which means it's unable to predict whether there could be a more sever collisions like fatality or serious injury, for a sever condition (e.g. weather is raining and road condition is wet, etc.), since the model failed to train for that. "
        },
        {
            "cell_type": "markdown",
            "metadata": {},
            "source": "## Conclusion"
        },
        {
            "cell_type": "markdown",
            "metadata": {},
            "source": "For this capstone, I'm using the shared dataset of collisions of Seattle. I selected **WEATHER**, **LIGHTCOND**, **ROADCOND**, **JUNCTIONTYPE**, **PERSONCOUNT** and **VEHCOUNT** as the trainning features and **SEVERITYCODE** as the labeled data. For data preprocessing, I removed the ~5000 rows of missing data and only kept the rows with all data availble; then I converted the string values of some features to numerical ones, by first combing similar conditions to one group, such as wet and snow of road condition. I split 70% of the data to training set and the rest 20% as testing set. For modeling, i used Logistic Regression as the training method, applied three solvers to it and got an F1-score of 0.64, which seems not as good as expected. For improvements, I'll try to use 80% for training and see the results. Or use decision tree instead. But the dataset itself does have drawbacks, since the data is unbalanced and only contains 2 category of labeled data. "
        },
        {
            "cell_type": "code",
            "execution_count": null,
            "metadata": {},
            "outputs": [],
            "source": ""
        }
    ],
    "metadata": {
        "kernelspec": {
            "display_name": "Python 3.6",
            "language": "python",
            "name": "python3"
        },
        "language_info": {
            "codemirror_mode": {
                "name": "ipython",
                "version": 3
            },
            "file_extension": ".py",
            "mimetype": "text/x-python",
            "name": "python",
            "nbconvert_exporter": "python",
            "pygments_lexer": "ipython3",
            "version": "3.6.9"
        }
    },
    "nbformat": 4,
    "nbformat_minor": 1
}